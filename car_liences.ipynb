{
 "cells": [
  {
   "cell_type": "code",
   "execution_count": 2,
   "metadata": {},
   "outputs": [
    {
     "name": "stdout",
     "output_type": "stream",
     "text": [
      "status:  Running\n",
      "status:  Succeeded\n",
      "車牌: 找不到車牌\n",
      "status:  Running\n",
      "status:  Succeeded\n",
      "車牌: 1051.K7\n",
      "exit\n"
     ]
    }
   ],
   "source": [
    "import cv2\n",
    "import license_module as m     # 匯入自訂模組\n",
    "\n",
    "capture = cv2.VideoCapture(0)   # 建立攝影機物件\n",
    "if capture.isOpened():          \n",
    "    while True:\n",
    "        sucess, img = capture.read()        # 讀取影像\n",
    "        if sucess:\n",
    "            cv2.imshow('Frame', img)        # 顯示影像\n",
    "        k = cv2.waitKey(100)                # 等待按鍵輸入\n",
    "        if k == ord('s') or k == ord('S'):  # 按下 S(s)\n",
    "            cv2.imwrite('shot.jpg', img)    # 儲存影像\n",
    "            text = m.get_license(img)         # 進行車牌辨識\n",
    "            print('車牌:', text)\n",
    "            \n",
    "        if k == ord('q') or k == ord('Q'):  # 按下 Q(q) 結束迴圈\n",
    "            print('exit')\n",
    "            cv2.destroyAllWindows()         # 關閉視窗\n",
    "            capture.release()               # 關閉攝影機\n",
    "            break\n",
    "else:\n",
    "    print('開啟攝影機失敗')\n"
   ]
  },
  {
   "cell_type": "markdown",
   "metadata": {},
   "source": [
    "![Alt text](./shot.jpg)"
   ]
  },
  {
   "cell_type": "code",
   "execution_count": null,
   "metadata": {},
   "outputs": [],
   "source": []
  }
 ],
 "metadata": {
  "kernelspec": {
   "display_name": "Python 3",
   "language": "python",
   "name": "python3"
  },
  "language_info": {
   "codemirror_mode": {
    "name": "ipython",
    "version": 3
   },
   "file_extension": ".py",
   "mimetype": "text/x-python",
   "name": "python",
   "nbconvert_exporter": "python",
   "pygments_lexer": "ipython3",
   "version": "3.7.0"
  }
 },
 "nbformat": 4,
 "nbformat_minor": 2
}
