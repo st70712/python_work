{
 "cells": [
  {
   "cell_type": "code",
   "execution_count": null,
   "metadata": {},
   "outputs": [
    {
     "name": "stdout",
     "output_type": "stream",
     "text": [
      "檢查： 台積電 股價： 237.0 區間： 220.0 ~ 223.0\n",
      "已傳送 (台積電, 237.0, 賣出 (股價高於 220.0)) 到 Line\n",
      "已傳送 (台積電, 237.0, 買進 (量大收紅, 三日均價大於六日均價)) 到 Line\n",
      "檢查： 鴻海 股價： 73.0 區間： 77.0 ~ 81.0\n",
      "已傳送 (鴻海, 73.0, 買進 (股價低於 77.0)) 到 Line\n",
      "已傳送 (鴻海, 73.0, 買進 (三日均價大於六日均價)) 到 Line\n",
      "檢查： 台塑 股價： 103.0 區間： 97.0 ~ 100.0\n",
      "已傳送 (台塑, 103.0, 賣出 (股價高於 97.0)) 到 Line\n",
      "已傳送 (台塑, 103.0, 買進 (三日均價大於六日均價)) 到 Line\n",
      "--------------\n",
      "檢查： 台積電 股價： 237.5 區間： 220.0 ~ 223.0\n",
      "檢查： 鴻海 股價： 73.0 區間： 77.0 ~ 81.0\n",
      "檢查： 台塑 股價： 103.0 區間： 97.0 ~ 100.0\n",
      "--------------\n"
     ]
    }
   ],
   "source": [
    "import time                # 匯入 time 模組, 會使用其 sleep() 來暫停時間\n",
    "import stock_module as m   # 匯入自訂模組並改名為 m\n",
    "\n",
    "slist = m.get_setting()   # 呼叫匯入模組中的函式取得股票設定資料\n",
    "cnt = len(slist)          # 計算有幾支股票\n",
    "\n",
    "log1 = []   # 記錄曾經傳送過的股票高或低於期望價的訊息, 以避免重複傳送\n",
    "log2 = []   # 記錄曾經傳送過符合四大買賣點的訊息, 以避免重複傳送\n",
    "for i in range(cnt):   #}\n",
    "    log1.append('')    #} 為每支股票加入一個對應的元素\n",
    "    log2.append('')    #}\n",
    "\n",
    "check_cnt = 20    # 指定要檢查幾次 (20*3分鐘 = 60分鐘)\n",
    "while True:\n",
    "    for i in range(cnt):   # 走訪每一支股票\n",
    "        id, low, high = slist[i]   #讀出股票的代號、期望買進價格、期望賣出\n",
    "        name, price = m.get_price(id)   #讀取股票的名稱和即時價格\n",
    "        print('檢查：',name, '股價：',price, '區間：',low,'~',high)\n",
    "        if price <= low:      #←如果即時股價到達期望買點\n",
    "            if log1[i] != '買進':  # 檢查前次傳送訊息, 以避免重複傳送\n",
    "                m.send_ifttt(name, price, '買進 (股價低於 '+str(low)+')')\n",
    "                log1[i]= '買進'    # 記錄傳送訊息, 以避免重複傳送\n",
    "        elif price >= high:   #←如果即時股價到達期望賣點\n",
    "            if log1[i] != '賣出':  # 檢查前次傳送訊息, 以避免重複傳送\n",
    "                m.send_ifttt(name, price, '賣出 (股價高於 '+str(low)+')')\n",
    "                log1[i]= '賣出'    # 記錄傳送訊息, 以避免重複傳送\n",
    "        act, why = m.get_best(id)  # 檢查四大買賣點\n",
    "        if why:   #←如果符合四大買賣點\n",
    "            if log2[i] != why:    # 檢查前次傳送訊息, 以避免重複傳送\n",
    "                m.send_ifttt(name, price, act + ' (' +why+ ')')\n",
    "                log2[i] = why     # 記錄傳送訊息, 以避免重複傳送\n",
    "    print('--------------')\n",
    "    check_cnt -= 1             # 將計數器減 1\n",
    "    if check_cnt == 0: break   # 檢查計數器為 0 時即離開迴圈、結束程式\n",
    "    time.sleep(180)            # 每 3 分鐘 (180 秒) 檢查一遍\n"
   ]
  },
  {
   "cell_type": "markdown",
   "metadata": {},
   "source": [
    "![Alt text](./line_notify.PNG)"
   ]
  },
  {
   "cell_type": "code",
   "execution_count": null,
   "metadata": {},
   "outputs": [],
   "source": []
  }
 ],
 "metadata": {
  "kernelspec": {
   "display_name": "Python 3",
   "language": "python",
   "name": "python3"
  },
  "language_info": {
   "codemirror_mode": {
    "name": "ipython",
    "version": 3
   },
   "file_extension": ".py",
   "mimetype": "text/x-python",
   "name": "python",
   "nbconvert_exporter": "python",
   "pygments_lexer": "ipython3",
   "version": "3.7.0"
  }
 },
 "nbformat": 4,
 "nbformat_minor": 2
}
