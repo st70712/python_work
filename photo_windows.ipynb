{
 "cells": [
  {
   "cell_type": "code",
   "execution_count": 2,
   "metadata": {},
   "outputs": [
    {
     "name": "stdout",
     "output_type": "stream",
     "text": [
      "資料夾不存在, 建立資料夾: cat\n",
      "建立資料夾: cat\n",
      "100%\n"
     ]
    }
   ],
   "source": [
    "import tkinter as tk\n",
    "from tkinter import messagebox\n",
    "import threading\n",
    "import photo_module as m\n",
    "\n",
    "#-------↓按紐事件的自訂函式↓------#\n",
    "def click_func():\n",
    "    name = photo_name.get()          # 取得文字輸入框的網址\n",
    "    number = int(photo_number.get())\n",
    "    #-----↓ 此 pytube 支援此網址, 進行網路爬蟲 ↓------#\n",
    "    photo_list = m.get_photolist(name, number)\n",
    "    \n",
    "    #------------↓ 輸入網址中有影片清單 ↓-----------------#\n",
    "    \n",
    "    folder_name = m.create_folder(name)\n",
    "    \n",
    "    m.get_photobythread(folder_name, name, photo_list)\n",
    "    messagebox.showinfo('搜尋結果','下載完畢')      \n",
    "    \n",
    "#------------↓ 主視窗 ↓------------#\n",
    "window = tk.Tk()                   # 建立主視窗物件\n",
    "window.geometry('640x480')         # 主視窗尺寸\n",
    "window.title('pixabay 圖片爬蟲程式')  # 主視窗標題\n",
    "#------------↓ Frame：上方輸入網址區域 ↓------------#\n",
    "input_fm = tk.Frame(window,   # 建立 Frame\n",
    "                    width=640, height=480)\n",
    "input_fm.pack()\n",
    "#--↓ Label ↓--#\n",
    "lb1 = tk.Label(input_fm, text='請輸入要下載的圖片名稱', \n",
    "              bg='red', fg='white',font=('細明體', 12))\n",
    "lb1.place(rely=0.25, relx=0.5, anchor='center')\n",
    "\n",
    "lb2 = tk.Label(input_fm, text='請輸入要下載的數量', \n",
    "              bg='red', fg='white',font=('細明體', 12))\n",
    "lb2.place(rely=0.75, relx=0.5, anchor='center')\n",
    "#--↓ Entry ↓--#\n",
    "photo_name = tk.StringVar()     # 用來取得使用者輸入的圖片名稱\n",
    "entry1 = tk.Entry(input_fm, textvariable=photo_name, width=50)\n",
    "entry1.place(rely=0.5, relx=0.5, anchor='center')\n",
    "\n",
    "photo_number = tk.StringVar()     # 用來取得使用者輸入的下載數量\n",
    "entry2 = tk.Entry(input_fm, textvariable=photo_number, width=50)\n",
    "entry2.place(rely=0.85, relx=0.5, anchor='center')\n",
    "#--↓ Button ↓--#\n",
    "btn = tk.Button(input_fm, text='確定', command = click_func, \n",
    "                bg='#FFD700', fg='Black',font=('細明體', 10))\n",
    "btn.place(rely=0.85, relx=0.85, anchor='center')\n",
    "\n",
    "#'--↓啟動主視窗↓--#\n",
    "window.mainloop()"
   ]
  },
  {
   "cell_type": "markdown",
   "metadata": {},
   "source": [
    "![Alt text](./photo_1.PNG)\n",
    "![Alt text](./photo_2.PNG)"
   ]
  },
  {
   "cell_type": "code",
   "execution_count": null,
   "metadata": {},
   "outputs": [],
   "source": []
  }
 ],
 "metadata": {
  "kernelspec": {
   "display_name": "Python 3",
   "language": "python",
   "name": "python3"
  },
  "language_info": {
   "codemirror_mode": {
    "name": "ipython",
    "version": 3
   },
   "file_extension": ".py",
   "mimetype": "text/x-python",
   "name": "python",
   "nbconvert_exporter": "python",
   "pygments_lexer": "ipython3",
   "version": "3.7.0"
  }
 },
 "nbformat": 4,
 "nbformat_minor": 2
}
